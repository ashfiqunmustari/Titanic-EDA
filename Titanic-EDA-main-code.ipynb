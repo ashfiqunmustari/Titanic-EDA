{
  "nbformat": 4,
  "nbformat_minor": 0,
  "metadata": {
    "colab": {
      "provenance": [],
      "toc_visible": true
    },
    "kernelspec": {
      "name": "python3",
      "display_name": "Python 3"
    },
    "language_info": {
      "name": "python"
    }
  },
  "cells": [
    {
      "cell_type": "markdown",
      "source": [
        "**Importing Necessary Libraries**"
      ],
      "metadata": {
        "id": "z8fNaH7O4ENC"
      }
    },
    {
      "cell_type": "code",
      "execution_count": 1,
      "metadata": {
        "id": "wQ2-0an1vHIu"
      },
      "outputs": [],
      "source": [
        "import pandas as pd\n",
        "import matplotlib.pyplot as plt\n",
        "import seaborn as sns"
      ]
    },
    {
      "cell_type": "markdown",
      "source": [
        "**Loading the dataset into a pandas data frame and displaying the first 10 rows of the data frame to gain familiarity with the data structure.**"
      ],
      "metadata": {
        "id": "DFzCE3hK0hwf"
      }
    },
    {
      "cell_type": "code",
      "source": [
        "train_data= pd.read_csv(\"https://raw.githubusercontent.com/ashfiqunmustari/Titanic-EDA/main/Dataset/train.csv\")\n",
        "test_data = pd.read_csv(\"https://raw.githubusercontent.com/ashfiqunmustari/Titanic-EDA/main/Dataset/test.csv\")"
      ],
      "metadata": {
        "id": "0QMxU1Gk0TqQ"
      },
      "execution_count": 2,
      "outputs": []
    },
    {
      "cell_type": "code",
      "source": [
        "print(train_data.head(10))"
      ],
      "metadata": {
        "colab": {
          "base_uri": "https://localhost:8080/"
        },
        "id": "gu8VWCnf0X28",
        "outputId": "3f068a64-dc28-4d5e-bade-ca86c36d4a61"
      },
      "execution_count": 3,
      "outputs": [
        {
          "output_type": "stream",
          "name": "stdout",
          "text": [
            "   PassengerId  Survived  Pclass  \\\n",
            "0            1         0       3   \n",
            "1            2         1       1   \n",
            "2            3         1       3   \n",
            "3            4         1       1   \n",
            "4            5         0       3   \n",
            "5            6         0       3   \n",
            "6            7         0       1   \n",
            "7            8         0       3   \n",
            "8            9         1       3   \n",
            "9           10         1       2   \n",
            "\n",
            "                                                Name     Sex   Age  SibSp  \\\n",
            "0                            Braund, Mr. Owen Harris    male  22.0      1   \n",
            "1  Cumings, Mrs. John Bradley (Florence Briggs Th...  female  38.0      1   \n",
            "2                             Heikkinen, Miss. Laina  female  26.0      0   \n",
            "3       Futrelle, Mrs. Jacques Heath (Lily May Peel)  female  35.0      1   \n",
            "4                           Allen, Mr. William Henry    male  35.0      0   \n",
            "5                                   Moran, Mr. James    male   NaN      0   \n",
            "6                            McCarthy, Mr. Timothy J    male  54.0      0   \n",
            "7                     Palsson, Master. Gosta Leonard    male   2.0      3   \n",
            "8  Johnson, Mrs. Oscar W (Elisabeth Vilhelmina Berg)  female  27.0      0   \n",
            "9                Nasser, Mrs. Nicholas (Adele Achem)  female  14.0      1   \n",
            "\n",
            "   Parch            Ticket     Fare Cabin Embarked  \n",
            "0      0         A/5 21171   7.2500   NaN        S  \n",
            "1      0          PC 17599  71.2833   C85        C  \n",
            "2      0  STON/O2. 3101282   7.9250   NaN        S  \n",
            "3      0            113803  53.1000  C123        S  \n",
            "4      0            373450   8.0500   NaN        S  \n",
            "5      0            330877   8.4583   NaN        Q  \n",
            "6      0             17463  51.8625   E46        S  \n",
            "7      1            349909  21.0750   NaN        S  \n",
            "8      2            347742  11.1333   NaN        S  \n",
            "9      0            237736  30.0708   NaN        C  \n"
          ]
        }
      ]
    },
    {
      "cell_type": "code",
      "source": [
        "print(test_data.head(10))"
      ],
      "metadata": {
        "colab": {
          "base_uri": "https://localhost:8080/"
        },
        "id": "GFXpXGB30yTT",
        "outputId": "e5b6eb8f-4d64-40e8-c674-2c9b7a45fe18"
      },
      "execution_count": 4,
      "outputs": [
        {
          "output_type": "stream",
          "name": "stdout",
          "text": [
            "   PassengerId  Pclass                                          Name     Sex  \\\n",
            "0          892       3                              Kelly, Mr. James    male   \n",
            "1          893       3              Wilkes, Mrs. James (Ellen Needs)  female   \n",
            "2          894       2                     Myles, Mr. Thomas Francis    male   \n",
            "3          895       3                              Wirz, Mr. Albert    male   \n",
            "4          896       3  Hirvonen, Mrs. Alexander (Helga E Lindqvist)  female   \n",
            "5          897       3                    Svensson, Mr. Johan Cervin    male   \n",
            "6          898       3                          Connolly, Miss. Kate  female   \n",
            "7          899       2                  Caldwell, Mr. Albert Francis    male   \n",
            "8          900       3     Abrahim, Mrs. Joseph (Sophie Halaut Easu)  female   \n",
            "9          901       3                       Davies, Mr. John Samuel    male   \n",
            "\n",
            "    Age  SibSp  Parch     Ticket     Fare Cabin Embarked  \n",
            "0  34.5      0      0     330911   7.8292   NaN        Q  \n",
            "1  47.0      1      0     363272   7.0000   NaN        S  \n",
            "2  62.0      0      0     240276   9.6875   NaN        Q  \n",
            "3  27.0      0      0     315154   8.6625   NaN        S  \n",
            "4  22.0      1      1    3101298  12.2875   NaN        S  \n",
            "5  14.0      0      0       7538   9.2250   NaN        S  \n",
            "6  30.0      0      0     330972   7.6292   NaN        Q  \n",
            "7  26.0      1      1     248738  29.0000   NaN        S  \n",
            "8  18.0      0      0       2657   7.2292   NaN        C  \n",
            "9  21.0      2      0  A/4 48871  24.1500   NaN        S  \n"
          ]
        }
      ]
    },
    {
      "cell_type": "markdown",
      "source": [
        "From the first 10 rows of the train and test data, we observe that both sets have the same features and a consistent data structure. We will now manipulate and perform analysis to the training data."
      ],
      "metadata": {
        "id": "0Xj_dBJJ2tSQ"
      }
    },
    {
      "cell_type": "markdown",
      "source": [
        "# **Data Manipulation**"
      ],
      "metadata": {
        "id": "qDJT7X584WnH"
      }
    },
    {
      "cell_type": "markdown",
      "source": [
        "**Identifying and handling missing values**"
      ],
      "metadata": {
        "id": "BHFmx-acKnUP"
      }
    },
    {
      "cell_type": "code",
      "source": [
        "#Checking which features have missing values in training data\n",
        "print(\"Number of missing values:\")\n",
        "print(train_data.isnull().sum())"
      ],
      "metadata": {
        "colab": {
          "base_uri": "https://localhost:8080/"
        },
        "id": "dnOlUFqV020E",
        "outputId": "a3c3c14e-8132-4e2c-8ca2-7d1154a86135"
      },
      "execution_count": 5,
      "outputs": [
        {
          "output_type": "stream",
          "name": "stdout",
          "text": [
            "Number of missing values:\n",
            "PassengerId      0\n",
            "Survived         0\n",
            "Pclass           0\n",
            "Name             0\n",
            "Sex              0\n",
            "Age            177\n",
            "SibSp            0\n",
            "Parch            0\n",
            "Ticket           0\n",
            "Fare             0\n",
            "Cabin          687\n",
            "Embarked         2\n",
            "dtype: int64\n"
          ]
        }
      ]
    },
    {
      "cell_type": "markdown",
      "source": [
        "Here we can observe that only the \"Age\",\"Cabin\" and \"Embarked\" features have missing values.\n",
        "To handle missing \"Age\" values, an efficient way is to replace them with the median age because the median provides a central value that accurately represents the data while maintaining the overall distribution of age.  Also, The median is less affected by outliers. The age distribution here has extreme values such as child of age 2, using the median ensures that these outliers do not skew the data."
      ],
      "metadata": {
        "id": "gOVDVtEf5G6C"
      }
    },
    {
      "cell_type": "code",
      "source": [
        "#Finding the median age by gender\n",
        "median_age= train_data.groupby('Sex')['Age'].median()\n",
        "print(median_age)"
      ],
      "metadata": {
        "colab": {
          "base_uri": "https://localhost:8080/"
        },
        "id": "q8kA9tZb4yFF",
        "outputId": "8a159c83-8cec-4991-ed43-58fe7d6ee76f"
      },
      "execution_count": 6,
      "outputs": [
        {
          "output_type": "stream",
          "name": "stdout",
          "text": [
            "Sex\n",
            "female    27.0\n",
            "male      29.0\n",
            "Name: Age, dtype: float64\n"
          ]
        }
      ]
    },
    {
      "cell_type": "code",
      "source": [
        "#Replacing the missing age values with the median value according to geender\n",
        "train_data['Age'] = train_data['Age'].fillna(train_data.groupby('Sex')['Age'].transform('median'))\n"
      ],
      "metadata": {
        "id": "PoTmxvuY5NkB"
      },
      "execution_count": 7,
      "outputs": []
    },
    {
      "cell_type": "code",
      "source": [
        "#Checking if there is any remaining missing age value\n",
        "print(train_data['Age'].isnull().sum())"
      ],
      "metadata": {
        "colab": {
          "base_uri": "https://localhost:8080/"
        },
        "id": "sk5VwbfBAxpa",
        "outputId": "630d7c5d-7e3f-49b9-f140-bf6b1b5909ec"
      },
      "execution_count": 8,
      "outputs": [
        {
          "output_type": "stream",
          "name": "stdout",
          "text": [
            "0\n"
          ]
        }
      ]
    },
    {
      "cell_type": "markdown",
      "source": [
        "Now, we have to handle the missing \"Cabin\" value. Since the cabin number is not a numerical value, we cannot calculate the mean or median. Replacing missing values with the mode (the most common cabin number) would skew the data as there is a large number of missing values. So I am replacing the missing cabin values with \"Unknown.\""
      ],
      "metadata": {
        "id": "FObSfnRyA6Rs"
      }
    },
    {
      "cell_type": "code",
      "source": [
        "train_data['Cabin'].fillna('Unknown', inplace=True)"
      ],
      "metadata": {
        "id": "3MiZCPXKBMFT"
      },
      "execution_count": null,
      "outputs": []
    },
    {
      "cell_type": "code",
      "source": [
        "#Checking if there is any remaining missing cabin value\n",
        "print(train_data['Cabin'].isnull().sum())"
      ],
      "metadata": {
        "colab": {
          "base_uri": "https://localhost:8080/"
        },
        "id": "22j5gOzlBUMC",
        "outputId": "b4e85c8f-8ee6-42af-90bf-b5cdbbb8ee40"
      },
      "execution_count": 10,
      "outputs": [
        {
          "output_type": "stream",
          "name": "stdout",
          "text": [
            "0\n"
          ]
        }
      ]
    },
    {
      "cell_type": "markdown",
      "source": [
        "Now, Here are only 2 rows with missing \"Embarked\" value, so i will drop them as it will have a very minimal impact on the dataset size"
      ],
      "metadata": {
        "id": "tIXibOiwBiUQ"
      }
    },
    {
      "cell_type": "code",
      "source": [
        "train_data= train_data[train_data['Embarked'].notnull()]"
      ],
      "metadata": {
        "id": "wlp3nuxsBYEU"
      },
      "execution_count": 11,
      "outputs": []
    },
    {
      "cell_type": "code",
      "source": [
        "#Checking the number of missing values after data manipulation\n",
        "print(\"Number of missing values in training data:\")\n",
        "print(train_data.isnull().sum())"
      ],
      "metadata": {
        "colab": {
          "base_uri": "https://localhost:8080/"
        },
        "id": "hGUZk9onBgsU",
        "outputId": "91feb737-29e8-4e6f-e897-133487f0ab80"
      },
      "execution_count": 12,
      "outputs": [
        {
          "output_type": "stream",
          "name": "stdout",
          "text": [
            "Number of missing values in training data:\n",
            "PassengerId    0\n",
            "Survived       0\n",
            "Pclass         0\n",
            "Name           0\n",
            "Sex            0\n",
            "Age            0\n",
            "SibSp          0\n",
            "Parch          0\n",
            "Ticket         0\n",
            "Fare           0\n",
            "Cabin          0\n",
            "Embarked       0\n",
            "dtype: int64\n"
          ]
        }
      ]
    },
    {
      "cell_type": "markdown",
      "source": [
        "**Checking for Duplicate Value**"
      ],
      "metadata": {
        "id": "toiO-C9CK4E7"
      }
    },
    {
      "cell_type": "code",
      "source": [
        "#Checking if there is any duplicated rows\n",
        "duplicate_row = train_data.duplicated().sum()\n",
        "print(\"Number of duplicated row in training data: \",duplicate_row)"
      ],
      "metadata": {
        "colab": {
          "base_uri": "https://localhost:8080/"
        },
        "id": "K69L1MbMBw1q",
        "outputId": "a925deca-71f9-422d-95da-3cfd378e765c"
      },
      "execution_count": 13,
      "outputs": [
        {
          "output_type": "stream",
          "name": "stdout",
          "text": [
            "Number of duplicated row in training data:  0\n"
          ]
        }
      ]
    },
    {
      "cell_type": "markdown",
      "source": [
        "**Checking for Date Related Data**"
      ],
      "metadata": {
        "id": "V6MfCAFwLAvd"
      }
    },
    {
      "cell_type": "code",
      "source": [
        "#Checking the data type to see if there is any date related data\n",
        "print(\"Data types:\", train_data.dtypes)"
      ],
      "metadata": {
        "colab": {
          "base_uri": "https://localhost:8080/"
        },
        "id": "tyJx-HWYCWHe",
        "outputId": "d4d0b798-6fef-417f-9847-9ebb8526269a"
      },
      "execution_count": 14,
      "outputs": [
        {
          "output_type": "stream",
          "name": "stdout",
          "text": [
            "Data types: PassengerId      int64\n",
            "Survived         int64\n",
            "Pclass           int64\n",
            "Name            object\n",
            "Sex             object\n",
            "Age            float64\n",
            "SibSp            int64\n",
            "Parch            int64\n",
            "Ticket          object\n",
            "Fare           float64\n",
            "Cabin           object\n",
            "Embarked        object\n",
            "dtype: object\n"
          ]
        }
      ]
    },
    {
      "cell_type": "markdown",
      "source": [
        "There is no date related column."
      ],
      "metadata": {
        "id": "TGrXzGiSuVYO"
      }
    },
    {
      "cell_type": "markdown",
      "source": [
        "**Create a new column for the passenger's age group**"
      ],
      "metadata": {
        "id": "O4MsBJEmLJwv"
      }
    },
    {
      "cell_type": "code",
      "source": [
        "#Creating a new column for the passenger's age group\n",
        "train_data[\"Age Group\"]=\"\"\n",
        "\n",
        "#Assigning age group depending on the age value\n",
        "def assign_ageGroup(age):\n",
        "    if age<18:\n",
        "        return \"Child\"\n",
        "    elif age>=18 and age<50:\n",
        "        return \"Adult\"\n",
        "    else:\n",
        "        return \"Senior\"\n",
        "\n",
        "for i, row in train_data.iterrows():\n",
        "    train_data.at[i,\"Age Group\"] = assign_ageGroup(train_data.at[i,\"Age\"])"
      ],
      "metadata": {
        "id": "uwBAAWyzC0_n"
      },
      "execution_count": 15,
      "outputs": []
    },
    {
      "cell_type": "code",
      "source": [
        "#Checking if the new feature has been added\n",
        "print(train_data.head(10))"
      ],
      "metadata": {
        "colab": {
          "base_uri": "https://localhost:8080/"
        },
        "id": "Q-DgWW9NE0hN",
        "outputId": "69211de0-cff6-4686-f87e-03bf673f1ef5"
      },
      "execution_count": 16,
      "outputs": [
        {
          "output_type": "stream",
          "name": "stdout",
          "text": [
            "   PassengerId  Survived  Pclass  \\\n",
            "0            1         0       3   \n",
            "1            2         1       1   \n",
            "2            3         1       3   \n",
            "3            4         1       1   \n",
            "4            5         0       3   \n",
            "5            6         0       3   \n",
            "6            7         0       1   \n",
            "7            8         0       3   \n",
            "8            9         1       3   \n",
            "9           10         1       2   \n",
            "\n",
            "                                                Name     Sex   Age  SibSp  \\\n",
            "0                            Braund, Mr. Owen Harris    male  22.0      1   \n",
            "1  Cumings, Mrs. John Bradley (Florence Briggs Th...  female  38.0      1   \n",
            "2                             Heikkinen, Miss. Laina  female  26.0      0   \n",
            "3       Futrelle, Mrs. Jacques Heath (Lily May Peel)  female  35.0      1   \n",
            "4                           Allen, Mr. William Henry    male  35.0      0   \n",
            "5                                   Moran, Mr. James    male  29.0      0   \n",
            "6                            McCarthy, Mr. Timothy J    male  54.0      0   \n",
            "7                     Palsson, Master. Gosta Leonard    male   2.0      3   \n",
            "8  Johnson, Mrs. Oscar W (Elisabeth Vilhelmina Berg)  female  27.0      0   \n",
            "9                Nasser, Mrs. Nicholas (Adele Achem)  female  14.0      1   \n",
            "\n",
            "   Parch            Ticket     Fare    Cabin Embarked Age Group  \n",
            "0      0         A/5 21171   7.2500  Unknown        S     Adult  \n",
            "1      0          PC 17599  71.2833      C85        C     Adult  \n",
            "2      0  STON/O2. 3101282   7.9250  Unknown        S     Adult  \n",
            "3      0            113803  53.1000     C123        S     Adult  \n",
            "4      0            373450   8.0500  Unknown        S     Adult  \n",
            "5      0            330877   8.4583  Unknown        Q     Adult  \n",
            "6      0             17463  51.8625      E46        S    Senior  \n",
            "7      1            349909  21.0750  Unknown        S     Child  \n",
            "8      2            347742  11.1333  Unknown        S     Adult  \n",
            "9      0            237736  30.0708  Unknown        C     Child  \n"
          ]
        }
      ]
    },
    {
      "cell_type": "markdown",
      "source": [
        "The new \"Age Group\" feature has been added successfully."
      ],
      "metadata": {
        "id": "OGcihXrtuni5"
      }
    },
    {
      "cell_type": "markdown",
      "source": [
        "**Identifying outliers**"
      ],
      "metadata": {
        "id": "UJlTq8EKLOSr"
      }
    },
    {
      "cell_type": "markdown",
      "source": [
        "Among the 13 features, \"Age\", \"SibSp\", \"Parch\", and \"Fare\" features are likely to have outliers. Lets check for each feature."
      ],
      "metadata": {
        "id": "59kjpYmhvN0y"
      }
    },
    {
      "cell_type": "code",
      "source": [
        "#Box plot for \"age\" to see the outliers\n",
        "plt.figure(figsize=(10, 4))\n",
        "sns.boxplot(x=train_data[\"Age\"])\n",
        "plt.xlabel(\"Age\")\n",
        "plt.show()\n"
      ],
      "metadata": {
        "colab": {
          "base_uri": "https://localhost:8080/",
          "height": 388
        },
        "id": "p-spuknavoZq",
        "outputId": "22b61169-2418-4397-f467-27bf81ba1366"
      },
      "execution_count": 17,
      "outputs": [
        {
          "output_type": "display_data",
          "data": {
            "text/plain": [
              "<Figure size 1000x400 with 1 Axes>"
            ],
            "image/png": "[encoded data removed]"
          },
          "metadata": {}
        }
      ]
    },
    {
      "cell_type": "markdown",
      "source": [
        "Here, the box plot shows that the median age is around 30, which means majority of the passengers are around that age. we can see there are a very few passengers below the lower bound and some beyond the upper bound. As the age variable has outliers on both sides, it shows that the titanic carried few very young passengers and some very old passengers aged over 70. As there is no negative value here, the outliers are not errors but are real ages. So I will keep them as they are."
      ],
      "metadata": {
        "id": "rFXOm2TX0a-5"
      }
    },
    {
      "cell_type": "code",
      "source": [
        "#Box plot for \"fare\" to see the outliers\n",
        "plt.figure(figsize=(12, 4))\n",
        "sns.boxplot(x=train_data[\"Fare\"])\n",
        "plt.xlabel(\"Fare\")\n",
        "plt.show()\n"
      ],
      "metadata": {
        "colab": {
          "base_uri": "https://localhost:8080/",
          "height": 388
        },
        "id": "t4PxFJUG0TmC",
        "outputId": "45eccb95-452e-43e0-b413-dd9530d875fa"
      },
      "execution_count": 18,
      "outputs": [
        {
          "output_type": "display_data",
          "data": {
            "text/plain": [
              "<Figure size 1200x400 with 1 Axes>"
            ],
            "image/png": "[encoded data removed]"
          },
          "metadata": {}
        }
      ]
    },
    {
      "cell_type": "markdown",
      "source": [
        "Here, the box plot shows that most of the passengers paid a small fare for the trip. The distribution is right skewed which means some passengers paid relatively very high fare who are probably 1st class passengers. Here we can see a data point over 500, lets check how many passengers paid such high fare."
      ],
      "metadata": {
        "id": "BneyGxri3m1x"
      }
    },
    {
      "cell_type": "code",
      "source": [
        "Highest_fares = train_data[\"Fare\"].sort_values(ascending=False).head(10)\n",
        "print(Highest_fares)"
      ],
      "metadata": {
        "colab": {
          "base_uri": "https://localhost:8080/"
        },
        "id": "5o0Z0es76H8G",
        "outputId": "fa64ca8a-3399-4707-f341-c99362a45f30"
      },
      "execution_count": 19,
      "outputs": [
        {
          "output_type": "stream",
          "name": "stdout",
          "text": [
            "679    512.3292\n",
            "258    512.3292\n",
            "737    512.3292\n",
            "341    263.0000\n",
            "88     263.0000\n",
            "438    263.0000\n",
            "27     263.0000\n",
            "742    262.3750\n",
            "311    262.3750\n",
            "299    247.5208\n",
            "Name: Fare, dtype: float64\n"
          ]
        }
      ]
    },
    {
      "cell_type": "markdown",
      "source": [
        "We can see 3 passengers paid 512.3292 for the fare who are likely to be true first class passengers. As these fares are valid and represent real passengers, I will keep them as they are."
      ],
      "metadata": {
        "id": "DmFp1ad16rCJ"
      }
    },
    {
      "cell_type": "code",
      "source": [
        "plt.figure(figsize=(10, 8))\n",
        "# Boxplot for SibSp\n",
        "plt.subplot(2, 1, 1)\n",
        "sns.boxplot(x=train_data[\"SibSp\"])\n",
        "plt.title(\"Box Plot of SibSp\")\n",
        "plt.xlabel(\"SibSp\")\n",
        "\n",
        "# Boxplot for Parch\n",
        "plt.subplot(2, 1, 2)\n",
        "sns.boxplot(x=train_data[\"Parch\"])\n",
        "plt.title(\"Box Plot of Parch\")\n",
        "plt.xlabel(\"Parch\")\n",
        "plt.tight_layout()\n",
        "plt.show()\n"
      ],
      "metadata": {
        "colab": {
          "base_uri": "https://localhost:8080/",
          "height": 807
        },
        "id": "PVKb5oTc7KN6",
        "outputId": "1e84af89-220d-46ac-b0d6-48a74734aa85"
      },
      "execution_count": 20,
      "outputs": [
        {
          "output_type": "display_data",
          "data": {
            "text/plain": [
              "<Figure size 1000x800 with 2 Axes>"
            ],
            "image/png": "[encoded data removed]"
          },
          "metadata": {}
        }
      ]
    },
    {
      "cell_type": "markdown",
      "source": [
        "The boxplots show that, most passengers have no or only 1 sibling or spouse on the ship and most passengers traveled without any parent or children. Both distributions are right skewed, so the outliers here represent a few large families. As family size could influence their behaviour, it could have an impact on the survival rate so I would keep the outliers as they are."
      ],
      "metadata": {
        "id": "FtvCbYV979bA"
      }
    },
    {
      "cell_type": "markdown",
      "source": [
        "**Creating derived features (Family Size and Family Type)**"
      ],
      "metadata": {
        "id": "9r4xCMSB-g8g"
      }
    },
    {
      "cell_type": "code",
      "source": [
        "#Creating a \"FamilySize\" feature based on the passenger's sibling, spouse, parent, children count\n",
        "train_data[\"FamilySize\"]= train_data[\"SibSp\"]+train_data[\"Parch\"]+1\n",
        "train_data['FamilySize'].value_counts()\n"
      ],
      "metadata": {
        "colab": {
          "base_uri": "https://localhost:8080/",
          "height": 397
        },
        "id": "gpRaE1Wh6-qp",
        "outputId": "d013eeeb-58ad-4803-fea8-5b4ce9ed18c6"
      },
      "execution_count": 21,
      "outputs": [
        {
          "output_type": "execute_result",
          "data": {
            "text/plain": [
              "FamilySize\n",
              "1     535\n",
              "2     161\n",
              "3     102\n",
              "4      29\n",
              "6      22\n",
              "5      15\n",
              "7      12\n",
              "11      7\n",
              "8       6\n",
              "Name: count, dtype: int64"
            ],
            "text/html": [
              "<div>\n",
              "<style scoped>\n",
              "    .dataframe tbody tr th:only-of-type {\n",
              "        vertical-align: middle;\n",
              "    }\n",
              "\n",
              "    .dataframe tbody tr th {\n",
              "        vertical-align: top;\n",
              "    }\n",
              "\n",
              "    .dataframe thead th {\n",
              "        text-align: right;\n",
              "    }\n",
              "</style>\n",
              "<table border=\"1\" class=\"dataframe\">\n",
              "  <thead>\n",
              "    <tr style=\"text-align: right;\">\n",
              "      <th></th>\n",
              "      <th>count</th>\n",
              "    </tr>\n",
              "    <tr>\n",
              "      <th>FamilySize</th>\n",
              "      <th></th>\n",
              "    </tr>\n",
              "  </thead>\n",
              "  <tbody>\n",
              "    <tr>\n",
              "      <th>1</th>\n",
              "      <td>535</td>\n",
              "    </tr>\n",
              "    <tr>\n",
              "      <th>2</th>\n",
              "      <td>161</td>\n",
              "    </tr>\n",
              "    <tr>\n",
              "      <th>3</th>\n",
              "      <td>102</td>\n",
              "    </tr>\n",
              "    <tr>\n",
              "      <th>4</th>\n",
              "      <td>29</td>\n",
              "    </tr>\n",
              "    <tr>\n",
              "      <th>6</th>\n",
              "      <td>22</td>\n",
              "    </tr>\n",
              "    <tr>\n",
              "      <th>5</th>\n",
              "      <td>15</td>\n",
              "    </tr>\n",
              "    <tr>\n",
              "      <th>7</th>\n",
              "      <td>12</td>\n",
              "    </tr>\n",
              "    <tr>\n",
              "      <th>11</th>\n",
              "      <td>7</td>\n",
              "    </tr>\n",
              "    <tr>\n",
              "      <th>8</th>\n",
              "      <td>6</td>\n",
              "    </tr>\n",
              "  </tbody>\n",
              "</table>\n",
              "</div><br><label><b>dtype:</b> int64</label>"
            ]
          },
          "metadata": {},
          "execution_count": 21
        }
      ]
    },
    {
      "cell_type": "code",
      "source": [
        "#Creating a new column for the passenger's Family Type which would be useful for later analysis\n",
        "train_data[\"Family Type\"]=\"\"\n",
        "\n",
        "#Assigning Family Type depending on the Family Size\n",
        "def assign_Family_Type(FamilySize):\n",
        "    if FamilySize==1:\n",
        "        return \"Solo\"\n",
        "    elif FamilySize>1 and FamilySize<4:\n",
        "        return \"Small Family\"\n",
        "    else:\n",
        "        return \"Large Family\"\n",
        "\n",
        "for i, row in train_data.iterrows():\n",
        "    train_data.at[i,\"Family Type\"] = assign_Family_Type(train_data.at[i,\"FamilySize\"])"
      ],
      "metadata": {
        "id": "UvusVf7s_-q0"
      },
      "execution_count": 39,
      "outputs": []
    },
    {
      "cell_type": "code",
      "source": [
        "#Checking if the new feature has been added\n",
        "print(train_data.head(10))"
      ],
      "metadata": {
        "colab": {
          "base_uri": "https://localhost:8080/"
        },
        "id": "uQvDBkO6BNN2",
        "outputId": "8d49cc85-5f3a-4bb8-e407-cdaef75b951e"
      },
      "execution_count": 40,
      "outputs": [
        {
          "output_type": "stream",
          "name": "stdout",
          "text": [
            "   PassengerId  Survived  Pclass  \\\n",
            "0            1         0       3   \n",
            "1            2         1       1   \n",
            "2            3         1       3   \n",
            "3            4         1       1   \n",
            "4            5         0       3   \n",
            "5            6         0       3   \n",
            "6            7         0       1   \n",
            "7            8         0       3   \n",
            "8            9         1       3   \n",
            "9           10         1       2   \n",
            "\n",
            "                                                Name     Sex   Age  SibSp  \\\n",
            "0                            Braund, Mr. Owen Harris    male  22.0      1   \n",
            "1  Cumings, Mrs. John Bradley (Florence Briggs Th...  female  38.0      1   \n",
            "2                             Heikkinen, Miss. Laina  female  26.0      0   \n",
            "3       Futrelle, Mrs. Jacques Heath (Lily May Peel)  female  35.0      1   \n",
            "4                           Allen, Mr. William Henry    male  35.0      0   \n",
            "5                                   Moran, Mr. James    male  29.0      0   \n",
            "6                            McCarthy, Mr. Timothy J    male  54.0      0   \n",
            "7                     Palsson, Master. Gosta Leonard    male   2.0      3   \n",
            "8  Johnson, Mrs. Oscar W (Elisabeth Vilhelmina Berg)  female  27.0      0   \n",
            "9                Nasser, Mrs. Nicholas (Adele Achem)  female  14.0      1   \n",
            "\n",
            "   Parch            Ticket     Fare    Cabin Embarked Age Group  FamilySize  \\\n",
            "0      0         A/5 21171   7.2500  Unknown        S     Adult           2   \n",
            "1      0          PC 17599  71.2833      C85        C     Adult           2   \n",
            "2      0  STON/O2. 3101282   7.9250  Unknown        S     Adult           1   \n",
            "3      0            113803  53.1000     C123        S     Adult           2   \n",
            "4      0            373450   8.0500  Unknown        S     Adult           1   \n",
            "5      0            330877   8.4583  Unknown        Q     Adult           1   \n",
            "6      0             17463  51.8625      E46        S    Senior           1   \n",
            "7      1            349909  21.0750  Unknown        S     Child           5   \n",
            "8      2            347742  11.1333  Unknown        S     Adult           3   \n",
            "9      0            237736  30.0708  Unknown        C     Child           2   \n",
            "\n",
            "    Family Type  \n",
            "0  Small Family  \n",
            "1  Small Family  \n",
            "2          Solo  \n",
            "3  Small Family  \n",
            "4          Solo  \n",
            "5          Solo  \n",
            "6          Solo  \n",
            "7  Large Family  \n",
            "8  Small Family  \n",
            "9  Small Family  \n"
          ]
        }
      ]
    },
    {
      "cell_type": "markdown",
      "source": [
        "# Exploratory Data Analysis"
      ],
      "metadata": {
        "id": "Lg-x-KAVm8nK"
      }
    },
    {
      "cell_type": "markdown",
      "source": [
        "**Summary of the dataset**"
      ],
      "metadata": {
        "id": "NH8uGoJsLpzV"
      }
    },
    {
      "cell_type": "code",
      "source": [
        "print(\"Summary of the training data:\")\n",
        "print(train_data.info())\n",
        "\n",
        "print(\"\\nColumns: \",train_data.columns )"
      ],
      "metadata": {
        "colab": {
          "base_uri": "https://localhost:8080/"
        },
        "id": "5MAdj_WgE8u7",
        "outputId": "aa0a1f04-76c7-46f7-c2c8-71a4a94a5db5"
      },
      "execution_count": 24,
      "outputs": [
        {
          "output_type": "stream",
          "name": "stdout",
          "text": [
            "Summary of the training data:\n",
            "<class 'pandas.core.frame.DataFrame'>\n",
            "Index: 889 entries, 0 to 890\n",
            "Data columns (total 15 columns):\n",
            " #   Column       Non-Null Count  Dtype  \n",
            "---  ------       --------------  -----  \n",
            " 0   PassengerId  889 non-null    int64  \n",
            " 1   Survived     889 non-null    int64  \n",
            " 2   Pclass       889 non-null    int64  \n",
            " 3   Name         889 non-null    object \n",
            " 4   Sex          889 non-null    object \n",
            " 5   Age          889 non-null    float64\n",
            " 6   SibSp        889 non-null    int64  \n",
            " 7   Parch        889 non-null    int64  \n",
            " 8   Ticket       889 non-null    object \n",
            " 9   Fare         889 non-null    float64\n",
            " 10  Cabin        889 non-null    object \n",
            " 11  Embarked     889 non-null    object \n",
            " 12  Age Group    889 non-null    object \n",
            " 13  FamilySize   889 non-null    int64  \n",
            " 14  Family Type  889 non-null    object \n",
            "dtypes: float64(2), int64(6), object(7)\n",
            "memory usage: 143.4+ KB\n",
            "None\n",
            "\n",
            "Columns:  Index(['PassengerId', 'Survived', 'Pclass', 'Name', 'Sex', 'Age', 'SibSp',\n",
            "       'Parch', 'Ticket', 'Fare', 'Cabin', 'Embarked', 'Age Group',\n",
            "       'FamilySize', 'Family Type'],\n",
            "      dtype='object')\n"
          ]
        }
      ]
    },
    {
      "cell_type": "markdown",
      "source": [
        "From the summary of the training set, we can observe that there is a total of 889 entries and 15 columns after data manipulation. The dataset has two types of features such as numerical feature (PassengerId, Survived, Pclass, Age, SibSp, Parch, Fare and FamilySize) and categorical feature(Name, Sex, Ticket, Cabin, Embarked, Age Group and Family Type). The Survived column is the target variable which indicates if the passenger survived or not. No column has any missing value as it was handled beforehand."
      ],
      "metadata": {
        "id": "YP6NVV4Kmw_3"
      }
    },
    {
      "cell_type": "code",
      "source": [
        "#Descriptive Statistics\n",
        "print(train_data.describe(include='all'))"
      ],
      "metadata": {
        "colab": {
          "base_uri": "https://localhost:8080/"
        },
        "id": "NreuxCwpoT6j",
        "outputId": "de810db6-a00f-4bd2-cfe7-47691daadf92"
      },
      "execution_count": 25,
      "outputs": [
        {
          "output_type": "stream",
          "name": "stdout",
          "text": [
            "        PassengerId    Survived      Pclass                 Name   Sex  \\\n",
            "count    889.000000  889.000000  889.000000                  889   889   \n",
            "unique          NaN         NaN         NaN                  889     2   \n",
            "top             NaN         NaN         NaN  Dooley, Mr. Patrick  male   \n",
            "freq            NaN         NaN         NaN                    1   577   \n",
            "mean     446.000000    0.382452    2.311586                  NaN   NaN   \n",
            "std      256.998173    0.486260    0.834700                  NaN   NaN   \n",
            "min        1.000000    0.000000    1.000000                  NaN   NaN   \n",
            "25%      224.000000    0.000000    2.000000                  NaN   NaN   \n",
            "50%      446.000000    0.000000    3.000000                  NaN   NaN   \n",
            "75%      668.000000    1.000000    3.000000                  NaN   NaN   \n",
            "max      891.000000    1.000000    3.000000                  NaN   NaN   \n",
            "\n",
            "               Age       SibSp       Parch    Ticket        Fare    Cabin  \\\n",
            "count   889.000000  889.000000  889.000000       889  889.000000      889   \n",
            "unique         NaN         NaN         NaN       680         NaN      147   \n",
            "top            NaN         NaN         NaN  CA. 2343         NaN  Unknown   \n",
            "freq           NaN         NaN         NaN         7         NaN      687   \n",
            "mean     29.395017    0.524184    0.382452       NaN   32.096681      NaN   \n",
            "std      12.984264    1.103705    0.806761       NaN   49.697504      NaN   \n",
            "min       0.420000    0.000000    0.000000       NaN    0.000000      NaN   \n",
            "25%      22.000000    0.000000    0.000000       NaN    7.895800      NaN   \n",
            "50%      29.000000    0.000000    0.000000       NaN   14.454200      NaN   \n",
            "75%      35.000000    1.000000    0.000000       NaN   31.000000      NaN   \n",
            "max      80.000000    8.000000    6.000000       NaN  512.329200      NaN   \n",
            "\n",
            "       Embarked Age Group  FamilySize Family Type  \n",
            "count       889       889  889.000000         889  \n",
            "unique        3         3         NaN           3  \n",
            "top           S     Adult         NaN        Solo  \n",
            "freq        644       703         NaN         535  \n",
            "mean        NaN       NaN    1.906637         NaN  \n",
            "std         NaN       NaN    1.614703         NaN  \n",
            "min         NaN       NaN    1.000000         NaN  \n",
            "25%         NaN       NaN    1.000000         NaN  \n",
            "50%         NaN       NaN    1.000000         NaN  \n",
            "75%         NaN       NaN    2.000000         NaN  \n",
            "max         NaN       NaN   11.000000         NaN  \n"
          ]
        }
      ]
    },
    {
      "cell_type": "markdown",
      "source": [
        "Using descriptive statistics, we can observe that, the passengers had approximately 38.25% survival rate. The dataset has 3 passenger classes, with a median of 3 which means most passengers were in 3rd class. Fares range from 0 to 512.33 with a median of 14.45, which shows right-skewed distribution due to a few 1st class passengers. The median of the family size shows that most passengers traveled solo. Embarkation points were C, Q, and S and the majority boarded from S. Overall, the majority of the passengers on titanic were male and traveled solo and a small group of 1st class passengers and large families represent the extremes."
      ],
      "metadata": {
        "id": "ZpPC2y-DDjbx"
      }
    },
    {
      "cell_type": "markdown",
      "source": [
        "**Visualizing the distribution of passengers by gender**"
      ],
      "metadata": {
        "id": "bYi0jKJVL1-6"
      }
    },
    {
      "cell_type": "code",
      "source": [
        "#Visualizing the distribution of passengers by gender\n",
        "plt.figure(figsize=(6, 6))\n",
        "sns.countplot(data=train_data, x=\"Sex\")\n",
        "plt.xlabel(\"Sex\", fontsize=12)\n",
        "plt.ylabel(\"Number of Passengers\", fontsize=12)\n",
        "plt.show()"
      ],
      "metadata": {
        "colab": {
          "base_uri": "https://localhost:8080/",
          "height": 547
        },
        "id": "MIAsk9xWz1_9",
        "outputId": "8ab32ddc-16b6-46e3-e03f-4282181e23ff"
      },
      "execution_count": 26,
      "outputs": [
        {
          "output_type": "display_data",
          "data": {
            "text/plain": [
              "<Figure size 600x600 with 1 Axes>"
            ],
            "image/png": "[encoded data removed]"
          },
          "metadata": {}
        }
      ]
    },
    {
      "cell_type": "markdown",
      "source": [
        "The barplot shows that there were significantly more male passengers than female passengers."
      ],
      "metadata": {
        "id": "ctBfnvD50_Q1"
      }
    },
    {
      "cell_type": "markdown",
      "source": [
        "**Creating a histogram for the age distribution.**"
      ],
      "metadata": {
        "id": "VWVUqsMbL_nt"
      }
    },
    {
      "cell_type": "code",
      "source": [
        "#Creating a histogram for the age distribution\n",
        "plt.figure(figsize=(10, 6))\n",
        "sns.histplot(data=train_data, x=\"Age\", bins=30)\n",
        "plt.xlabel(\"Age\", fontsize=12)\n",
        "plt.ylabel(\"Number of Passengers\", fontsize=12)\n",
        "plt.show()"
      ],
      "metadata": {
        "colab": {
          "base_uri": "https://localhost:8080/",
          "height": 546
        },
        "id": "-l5WQ8M41r5z",
        "outputId": "7314d171-71ee-4c47-a1a2-d1e995711c8c"
      },
      "execution_count": 27,
      "outputs": [
        {
          "output_type": "display_data",
          "data": {
            "text/plain": [
              "<Figure size 1000x600 with 1 Axes>"
            ],
            "image/png": "[encoded data removed]"
          },
          "metadata": {}
        }
      ]
    },
    {
      "cell_type": "markdown",
      "source": [
        "Here, the total number of data points is 889. Using the square root rule I determined the number of bins to be 30.\n",
        "Plotting the age distribution with 30 bins, we can observe that the tallest bar is just before age 30 which indicates that the majority of passengers were around this age. The peaks between ages 0 and 10 are very small which shows that there were few children. Similarly the peaks after age 50 are also small, and after age 70 they almost disappear. It indicates that very few elderly passengers were there. Overall this histogram shows that most of the passengers on the ship were adults."
      ],
      "metadata": {
        "id": "RQwHrynh3Cop"
      }
    },
    {
      "cell_type": "markdown",
      "source": [
        "**Visualizing the survival rate by gender and class**"
      ],
      "metadata": {
        "id": "IMxF1kNbMFCF"
      }
    },
    {
      "cell_type": "code",
      "source": [
        "#Visualizing the survival rate by gender and class\n",
        "plt.figure(figsize=(10, 5))\n",
        "sns.barplot(data=train_data, x=\"Pclass\", y=\"Survived\", hue=\"Sex\", errorbar=None)\n",
        "plt.xlabel(\"Passenger Class\", fontsize=12)\n",
        "plt.ylabel(\"Passengers Survival Rate\", fontsize=12)\n",
        "plt.ylim(0, 1)\n",
        "plt.legend(title=\"Gender\")\n",
        "plt.show()\n"
      ],
      "metadata": {
        "colab": {
          "base_uri": "https://localhost:8080/",
          "height": 474
        },
        "id": "ispiUCUq5oPv",
        "outputId": "79d30947-c703-42fd-b61e-c63e6057a1be"
      },
      "execution_count": 28,
      "outputs": [
        {
          "output_type": "display_data",
          "data": {
            "text/plain": [
              "<Figure size 1000x500 with 1 Axes>"
            ],
            "image/png": "[encoded data removed]"
          },
          "metadata": {}
        }
      ]
    },
    {
      "cell_type": "markdown",
      "source": [
        "The plots show that the 1st class passengers had the most survival rate and the 3rd class passengers had the least survival rate. In all the passenger classes, women had far greater survival rate than men so we can say gender played a significant role in the survival rate."
      ],
      "metadata": {
        "id": "phn2Mucr8DWq"
      }
    },
    {
      "cell_type": "markdown",
      "source": [
        "**Some interesting visulizations**"
      ],
      "metadata": {
        "id": "oWc3hPNLMI5L"
      }
    },
    {
      "cell_type": "code",
      "source": [
        "#Visualizing the distribution of passengers among different age groups\n",
        "AgeGroupBasedCount=train_data[\"Age Group\"].value_counts()\n",
        "print(\"The distribution of passengers among different age groups:\")\n",
        "print(AgeGroupBasedCount)\n",
        "\n",
        "plt.figure(figsize=(4, 3))\n",
        "sns.countplot(data=train_data, x=\"Age Group\")\n",
        "plt.xticks(ticks=[0, 1, 2], labels=[\"Adult\", \"Senior\", \"Child\"])\n",
        "plt.xlabel(\"Age Group\")\n",
        "plt.ylabel(\"Number of Passengers\")\n",
        "plt.show()"
      ],
      "metadata": {
        "colab": {
          "base_uri": "https://localhost:8080/",
          "height": 415
        },
        "id": "emlwt2s8AIN3",
        "outputId": "a263ce1c-b6ba-43f6-d286-f14cf472b1d1"
      },
      "execution_count": 30,
      "outputs": [
        {
          "output_type": "stream",
          "name": "stdout",
          "text": [
            "The distribution of passengers among different age groups:\n",
            "Age Group\n",
            "Adult     703\n",
            "Child     113\n",
            "Senior     73\n",
            "Name: count, dtype: int64\n"
          ]
        },
        {
          "output_type": "display_data",
          "data": {
            "text/plain": [
              "<Figure size 400x300 with 1 Axes>"
            ],
            "image/png": "[encoded data removed]"
          },
          "metadata": {}
        }
      ]
    },
    {
      "cell_type": "markdown",
      "source": [
        "The distribution shows that most passengers were adults, with a total of 703 passengers. Children were fewer, a total of 113 and seniors were the least with only 73 passengers."
      ],
      "metadata": {
        "id": "Tw31HNVRA0OC"
      }
    },
    {
      "cell_type": "code",
      "source": [
        "#Visualizing if survival varied across age groups\n",
        "plt.figure(figsize=(10, 5))\n",
        "sns.barplot(data=train_data, x=\"Age Group\", y=\"Survived\", errorbar=None)\n",
        "plt.xlabel(\"Passengers Age Group\", fontsize=12)\n",
        "plt.ylabel(\"Passengers Survival Rate\", fontsize=12)\n",
        "plt.ylim(0, 1)\n",
        "plt.show()\n"
      ],
      "metadata": {
        "colab": {
          "base_uri": "https://localhost:8080/",
          "height": 474
        },
        "id": "ztipVz9L8CmI",
        "outputId": "5b008b5b-8f06-4e85-d68d-973767f61eec"
      },
      "execution_count": 31,
      "outputs": [
        {
          "output_type": "display_data",
          "data": {
            "text/plain": [
              "<Figure size 1000x500 with 1 Axes>"
            ],
            "image/png": "[encoded data removed]"
          },
          "metadata": {}
        }
      ]
    },
    {
      "cell_type": "markdown",
      "source": [
        "Even though the majority of the passengers were adults, the plots show that the children had the most survival rate where adults and seniors had somewhat a similar survival rate."
      ],
      "metadata": {
        "id": "mcXhDEBc-581"
      }
    },
    {
      "cell_type": "code",
      "source": [
        "#Visualizing if survival varied across age groups and genders\n",
        "plt.figure(figsize=(10, 5))\n",
        "sns.barplot(data=train_data, x=\"Age Group\", y=\"Survived\", hue=\"Sex\", errorbar=None)\n",
        "plt.xlabel(\"Passengers Age Group\", fontsize=12)\n",
        "plt.ylabel(\"Passengers Survival Rate\", fontsize=12)\n",
        "plt.ylim(0, 1)\n",
        "plt.legend(title='Gender')\n",
        "plt.show()\n"
      ],
      "metadata": {
        "colab": {
          "base_uri": "https://localhost:8080/",
          "height": 474
        },
        "id": "vGOUEv7f-24W",
        "outputId": "464175fe-513f-452a-c4fe-90704111e98f"
      },
      "execution_count": 32,
      "outputs": [
        {
          "output_type": "display_data",
          "data": {
            "text/plain": [
              "<Figure size 1000x500 with 1 Axes>"
            ],
            "image/png": "[encoded data removed]"
          },
          "metadata": {}
        }
      ]
    },
    {
      "cell_type": "markdown",
      "source": [
        "**Now interstingly**, though the previous plots showed that children had the highest survival rate, when we visualise survival by age group and genders, we can see that the female seniors had the highest survival rate, keeping female adults in second, and female children in third. The male seniors had the lowest survival rate among all passengers."
      ],
      "metadata": {
        "id": "UvWSsXAOBplX"
      }
    },
    {
      "cell_type": "code",
      "source": [
        "#Visualising passengers distribution across different embarkation points\n",
        "embarked_counts = train_data[\"Embarked\"].value_counts()\n",
        "\n",
        "plt.figure(figsize=(4, 4))\n",
        "plt.pie(embarked_counts, labels=embarked_counts.index, autopct=\"%1.1f%%\")\n",
        "plt.show()\n"
      ],
      "metadata": {
        "colab": {
          "base_uri": "https://localhost:8080/",
          "height": 345
        },
        "id": "bn4jPiUYBdmq",
        "outputId": "ca13f5d8-7f38-46ac-b3ca-e387b8f3f9fe"
      },
      "execution_count": 33,
      "outputs": [
        {
          "output_type": "display_data",
          "data": {
            "text/plain": [
              "<Figure size 400x400 with 1 Axes>"
            ],
            "image/png": "[encoded data removed]"
          },
          "metadata": {}
        }
      ]
    },
    {
      "cell_type": "markdown",
      "source": [
        "The pie chart shows the proportion of passengers boarding from each port. The majority of passengers embarked from Southampton(S) where smaller portions boarded from Cherbourg(C) and Queenstown(Q)."
      ],
      "metadata": {
        "id": "gdn-j2-QDKPk"
      }
    },
    {
      "cell_type": "code",
      "source": [
        "#Visualizing if survival varied among passengers from different embarkation points\n",
        "survival_rate_by_embarked = train_data.groupby('Embarked')['Survived'].mean().reset_index()\n",
        "print(survival_rate_by_embarked)\n",
        "\n",
        "plt.figure(figsize=(6, 3))\n",
        "sns.barplot(data=train_data, x=survival_rate_by_embarked[\"Embarked\"], y=survival_rate_by_embarked[\"Survived\"])\n",
        "plt.xlabel(\"Embarkation Point\", fontsize=12)\n",
        "plt.ylabel(\"Survival Rate\", fontsize=12)\n",
        "plt.show()\n"
      ],
      "metadata": {
        "colab": {
          "base_uri": "https://localhost:8080/",
          "height": 384
        },
        "id": "K7ZeGt_EC970",
        "outputId": "8eaf63db-c14f-4e8c-b3c6-d3c79943e3ef"
      },
      "execution_count": 34,
      "outputs": [
        {
          "output_type": "stream",
          "name": "stdout",
          "text": [
            "  Embarked  Survived\n",
            "0        C  0.553571\n",
            "1        Q  0.389610\n",
            "2        S  0.336957\n"
          ]
        },
        {
          "output_type": "display_data",
          "data": {
            "text/plain": [
              "<Figure size 600x300 with 1 Axes>"
            ],
            "image/png": "[encoded data removed]"
          },
          "metadata": {}
        }
      ]
    },
    {
      "cell_type": "markdown",
      "source": [
        "**Interestingly,** though the majority of passengers(72.4%) embarked from Southampton(S), this port had the lowest survival rate, with only 33.7% surviving. In contrast, while only 18.9% of passengers embarked from Cherbourg(C), more than 50% of them survived. It shows a significant difference in survival rates based on Port of Embarkation."
      ],
      "metadata": {
        "id": "9y9yGanDEWnX"
      }
    },
    {
      "cell_type": "code",
      "source": [
        "#Visualizing if Family Type had any significant role on survival rate\n",
        "#survival_rate_by_embarked = train_data.groupby('Embarked')['Survived'].mean().reset_index()\n",
        "#print(survival_rate_by_embarked)\n",
        "\n",
        "plt.figure(figsize=(6, 3))\n",
        "sns.barplot(data=train_data, x=train_data[\"Family Type\"], y=train_data[\"Survived\"], errorbar=None)\n",
        "plt.xlabel(\"Family Type\", fontsize=12)\n",
        "plt.ylabel(\"Survival Rate\", fontsize=12)\n",
        "plt.ylim(0, 0.6)\n",
        "plt.show()\n"
      ],
      "metadata": {
        "colab": {
          "base_uri": "https://localhost:8080/",
          "height": 320
        },
        "id": "923AKtxvGobz",
        "outputId": "88bb36c7-351f-40b2-8ea3-bacc7eed4a8e"
      },
      "execution_count": 44,
      "outputs": [
        {
          "output_type": "display_data",
          "data": {
            "text/plain": [
              "<Figure size 600x300 with 1 Axes>"
            ],
            "image/png": "[encoded data removed]"
          },
          "metadata": {}
        }
      ]
    },
    {
      "cell_type": "markdown",
      "source": [
        "**Interestingly,** the plots show that passengers with small family had the highest survival rate, followed by passengers with large family but solo travelers had the lowest survival rate. So, family presence appears to be an important factor influencing the survival."
      ],
      "metadata": {
        "id": "o8ms1nn3HTZR"
      }
    },
    {
      "cell_type": "markdown",
      "source": [
        "# Basic Statistical Analysis"
      ],
      "metadata": {
        "id": "KJxcpXnRF_tw"
      }
    },
    {
      "cell_type": "markdown",
      "source": [
        "**Calculating the mean, median, and mode**"
      ],
      "metadata": {
        "id": "AkhyDxvHMXQG"
      }
    },
    {
      "cell_type": "code",
      "source": [
        "#Calculating the mean, median, and mode for the 'Age' column\n",
        "mean_age= train_data[\"Age\"].mean()\n",
        "print(\"Mean Age:\",mean_age)\n",
        "\n",
        "median_age= train_data[\"Age\"].median()\n",
        "print(\"Median Age:\",median_age)\n",
        "\n",
        "mode_age= train_data[\"Age\"].mode()[0]\n",
        "print(\"Mode Age:\",mode_age)"
      ],
      "metadata": {
        "colab": {
          "base_uri": "https://localhost:8080/"
        },
        "id": "ZFUWmLqHGJnu",
        "outputId": "fb5390f2-414c-41b1-983e-086c0a14adba"
      },
      "execution_count": 35,
      "outputs": [
        {
          "output_type": "stream",
          "name": "stdout",
          "text": [
            "Mean Age: 29.395016872890885\n",
            "Median Age: 29.0\n",
            "Mode Age: 29.0\n"
          ]
        }
      ]
    },
    {
      "cell_type": "markdown",
      "source": [
        "As the mean age is 29, most passengers are in the adult age group. The mean being a little higher than the median means a few older passengers skewed the average upward a little bit. The mode at 29 suggests this is a common age among the passengers."
      ],
      "metadata": {
        "id": "EC2DgPIQHL26"
      }
    },
    {
      "cell_type": "code",
      "source": [
        "#Calculating the mean, median, and mode for the 'Fare' column\n",
        "mean_fare= train_data[\"Fare\"].mean()\n",
        "print(\"Mean Fare:\",round(mean_fare, 2))\n",
        "\n",
        "median_fare= train_data[\"Fare\"].median()\n",
        "print(\"Median Fare:\",round(median_fare, 2))\n",
        "\n",
        "mode_fare= train_data[\"Fare\"].mode()[0]\n",
        "print(\"Mode Fare:\",round(mode_fare, 2))"
      ],
      "metadata": {
        "colab": {
          "base_uri": "https://localhost:8080/"
        },
        "id": "pCNHfXWFGCLx",
        "outputId": "5f26fc6e-9953-4cbf-c965-879ad2a87546"
      },
      "execution_count": 36,
      "outputs": [
        {
          "output_type": "stream",
          "name": "stdout",
          "text": [
            "Mean Fare: 32.1\n",
            "Median Fare: 14.45\n",
            "Mode Fare: 8.05\n"
          ]
        }
      ]
    },
    {
      "cell_type": "markdown",
      "source": [
        "It shows that the average fare is high (32.1). But most passengers actually paid lower amounts, as the median is 14.45. Also, the mode is 8.05, which means the fare distribution is skewed."
      ],
      "metadata": {
        "id": "0Qvq2wVDHyFJ"
      }
    },
    {
      "cell_type": "code",
      "source": [
        "#Calculating the mean, median, and mode for the 'Age' column\n",
        "mean_age= train_data[\"FamilySize\"].mean()\n",
        "print(\"Mean of Family Size:\",mean_age)\n",
        "\n",
        "median_age= train_data[\"FamilySize\"].median()\n",
        "print(\"Median of Family Size:\",median_age)\n",
        "\n",
        "mode_age= train_data[\"FamilySize\"].mode()[0]\n",
        "print(\"Mode of Family Size:\",mode_age)"
      ],
      "metadata": {
        "colab": {
          "base_uri": "https://localhost:8080/"
        },
        "id": "ZSoP9vLpI6KK",
        "outputId": "62f10e18-ccf9-412a-c0c7-6de33f1205c9"
      },
      "execution_count": 46,
      "outputs": [
        {
          "output_type": "stream",
          "name": "stdout",
          "text": [
            "Mean of Family Size: 1.9066366704161979\n",
            "Median of Family Size: 1.0\n",
            "Mode of Family Size: 1\n"
          ]
        }
      ]
    },
    {
      "cell_type": "markdown",
      "source": [
        "It shows that, on average each passengers traveled with no or 1 family member. The median being 1 indicates that, the majority of the passengers were solo travelers."
      ],
      "metadata": {
        "id": "E202k2wzJREK"
      }
    },
    {
      "cell_type": "markdown",
      "source": [
        "**t-test**"
      ],
      "metadata": {
        "id": "haUfmNd1Mc8F"
      }
    },
    {
      "cell_type": "code",
      "source": [
        "#Performing a t-test to determine if there is a significant difference in survival rate based on gender\n",
        "from scipy.stats import ttest_ind\n",
        "from scipy.stats import chi2_contingency\n",
        "\n",
        "#Separating the survived passengers based on gender\n",
        "survived_male = train_data[train_data[\"Sex\"] == \"male\"][\"Survived\"]\n",
        "survived_female = train_data[train_data[\"Sex\"] == \"female\"][\"Survived\"]\n",
        "\n",
        "#Performing a t-test\n",
        "t,p = ttest_ind(survived_male, survived_female)\n",
        "\n",
        "print(\"T-statistic:\",t)\n",
        "print(\"P-value:\",p)"
      ],
      "metadata": {
        "colab": {
          "base_uri": "https://localhost:8080/"
        },
        "id": "iqs7T3IZH94i",
        "outputId": "c4065be0-8fdd-4d8c-fd1c-1a1717affd2e"
      },
      "execution_count": 37,
      "outputs": [
        {
          "output_type": "stream",
          "name": "stdout",
          "text": [
            "T-statistic: -19.18735865612515\n",
            "P-value: 6.682012140613411e-69\n"
          ]
        }
      ]
    },
    {
      "cell_type": "markdown",
      "source": [
        "T-statistic is a measure of how different the means of male and female passengers are compared to the variability of the data.\n",
        "\n",
        "Here -19.19 is very large which indicates a large difference.\n",
        "The P value here is far below 0.05 which shows there's a significant difference in survival rate based on gender.\n",
        "\n",
        "As the T value is negative, it confirms what we observed in the plots, that the female passengers had a higher survival rate than the male passengers."
      ],
      "metadata": {
        "id": "nKiTZEHqIXcr"
      }
    },
    {
      "cell_type": "markdown",
      "source": [
        "**chi square test**"
      ],
      "metadata": {
        "id": "H6sw118gMjQ4"
      }
    },
    {
      "cell_type": "code",
      "source": [
        "#Performing a chi-square test\n",
        "contingency_table = pd.crosstab(train_data[\"Age Group\"], train_data[\"Survived\"])\n",
        "p2= chi2_contingency(contingency_table)[1]\n",
        "print(\"P value is:\",p2)"
      ],
      "metadata": {
        "colab": {
          "base_uri": "https://localhost:8080/"
        },
        "id": "ffJe8HGVJPEG",
        "outputId": "a0063c82-30b9-4bc3-da82-bec81c884a0c"
      },
      "execution_count": 38,
      "outputs": [
        {
          "output_type": "stream",
          "name": "stdout",
          "text": [
            "P value is: 0.0011259639814285567\n"
          ]
        }
      ]
    },
    {
      "cell_type": "markdown",
      "source": [
        "As the P-value is below 0.05, it means a significant difference in survival rate among age groups. It confirms what we observed in the plots, that a passenger's age group played a role in their survival rate."
      ],
      "metadata": {
        "id": "Kz_wICv8Jc0j"
      }
    }
  ]
}